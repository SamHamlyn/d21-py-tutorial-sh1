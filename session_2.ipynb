{
 "cells": [
  {
   "cell_type": "markdown",
   "id": "98253033",
   "metadata": {},
   "source": [
    "# Session 2 \n",
    "\n",
    "## Catch up on last weeks session"
   ]
  },
  {
   "cell_type": "code",
   "execution_count": null,
   "id": "18a8a28e",
   "metadata": {},
   "outputs": [
    {
     "data": {
      "text/plain": [
       "'afkpuz'"
      ]
     },
     "execution_count": 7,
     "metadata": {},
     "output_type": "execute_result"
    }
   ],
   "source": [
    "AnInt = 10 #int  vars can't start with numbers \n",
    "AFloat = 10.10 # float \n",
    "AString = \"10\" #a string\n",
    "\n",
    "outcome = AnInt + AFloat # this works\n",
    " \n",
    "# ThisDoesnt = AString + AnInt # These types won't work together\n",
    "\n",
    "#Indexes start at 0. \n",
    "# [Start : Stop : Step] This is the notation\n",
    "#Start is inclusive, Stop is exclusive \n",
    "\n",
    "abc ='abcdefghijklmnopqrstuvwxyz'\n",
    "\n",
    "abc[10] # 10th character\n",
    "\n",
    "abc[:5] #beginging to 5th (just before character 5)\n",
    "\n",
    "abc[::5] # every 5"
   ]
  },
  {
   "cell_type": "markdown",
   "id": "ef92a4db",
   "metadata": {},
   "source": [
    "This session will intro \n",
    "\n",
    "**Lists**\n",
    "\n",
    "- stores lists of variables\n",
    "- eg getting a list of column names that are in various tables. Which column names are different between the tables so we can work to join them together. \n",
    "- or having a list of tables\n",
    "- start  of tabular data\n",
    "- Lists keep order unless you change them\n",
    "- Square Brackets elements seperated by commas\n",
    "\n",
    "**Dictionaries**\n",
    "- Store Varibles in one object names\n",
    "- (Key) : value\n",
    "- Eg a list of file names as the keys and the actual files as the values\n",
    "- Key ->  File Name : xlsx file <-value\n",
    "- Dictionaries are stored together so easier for memory if the values are commonly accessed together. "
   ]
  },
  {
   "cell_type": "code",
   "execution_count": null,
   "id": "fd0938ef",
   "metadata": {},
   "outputs": [
    {
     "data": {
      "text/plain": [
       "[10]"
      ]
     },
     "execution_count": 14,
     "metadata": {},
     "output_type": "execute_result"
    }
   ],
   "source": [
    "# List example \n",
    "\n",
    "myList = [] # Empty List but still a list eg could append to it\n",
    "type(myList)\n",
    "\n",
    "#Other way to make it into a list is  variblename.tolist() \n",
    "\n",
    "list_2 = [10, 12, 9 ]\n",
    "type(list_2)\n",
    "list_2\n",
    "\n",
    "# as lists don't change order unless you change them this means you can find indivual items. \n",
    "\n",
    "list_2[1]\n",
    "list_2[:1]"
   ]
  },
  {
   "cell_type": "code",
   "execution_count": 17,
   "id": "60b585db",
   "metadata": {},
   "outputs": [
    {
     "data": {
      "text/plain": [
       "'l'"
      ]
     },
     "execution_count": 17,
     "metadata": {},
     "output_type": "execute_result"
    }
   ],
   "source": [
    "cols_1 = [\"red\", \"Blue\", \"green\", 10] # lists can have different data types in the same list\n",
    "cols_2 = [\"purple\", \"orange\", cols_1] # they can even have lists inside of lists like this\n",
    "cols_2\n",
    "\n",
    "#Can chain the brackets notation to find the values of lists in lists\n",
    "\n",
    "cols_2[2][1][1]"
   ]
  },
  {
   "cell_type": "markdown",
   "id": "3a823697",
   "metadata": {},
   "source": [
    "## Task 1 \n",
    "\n",
    "Write a list which contains:\n",
    "a float, an integer, a string, and another list which itself contains strings\n",
    "use the square bracket notation to slice out and print the last string from the\n",
    "list inside the list (try and do it using a minus rather than a normal number)\n",
    " \n",
    " standard way to name variables are lower_case_words_with_underscores_below"
   ]
  },
  {
   "cell_type": "code",
   "execution_count": 24,
   "id": "3d906476",
   "metadata": {},
   "outputs": [
    {
     "data": {
      "text/plain": [
       "'John'"
      ]
     },
     "execution_count": 24,
     "metadata": {},
     "output_type": "execute_result"
    }
   ],
   "source": [
    "inner_list = [\"Tom\", \"Richard\", \"John\"]\n",
    "task_list = [1.11, 5, \"Hello\", inner_list]\n",
    "\n",
    "string_from_it = task_list[3][2]\n",
    "\n",
    "using_minus = task_list[-1][-1]\n",
    "string_from_it\n",
    "using_minus"
   ]
  },
  {
   "cell_type": "markdown",
   "id": "90cbfb7b",
   "metadata": {},
   "source": [
    "### Functions\n",
    "\n",
    "Functions work like -> print(args)\n",
    "    They don't come out of a specific type\n",
    "\n",
    "Then there are methods which work similar but have to come after the variable name\n",
    "    var_nane.name_of_method(args)\n",
    "You need to learn whether it is a function or methods. \n",
    "\n",
    "Lists have lots of methods that are useful"
   ]
  },
  {
   "cell_type": "code",
   "execution_count": 45,
   "id": "3288137e",
   "metadata": {},
   "outputs": [
    {
     "data": {
      "text/plain": [
       "['red', 'blue', 'green', 'turqoise', 'beige', 'taupe']"
      ]
     },
     "execution_count": 45,
     "metadata": {},
     "output_type": "execute_result"
    }
   ],
   "source": [
    "colours_1 = [\"red\", \"blue\", \"green\", \"turqoise\", \"beige\"]\n",
    "colours_2 = [\"teal\", \"maroon\"] \n",
    "\n",
    "colour_1 = \"taupe\"\n",
    "\n",
    "# Append Works in place so you don't need to overwrite the variable like x = x.append(\"hello\")\n",
    "colours_1.append(colour_1)\n",
    "colours_1 # now taupe is at the end"
   ]
  },
  {
   "cell_type": "code",
   "execution_count": 39,
   "id": "24e693d1",
   "metadata": {},
   "outputs": [
    {
     "data": {
      "text/plain": [
       "['red', 'blue', 'green', 'turqoise', 'beige', 'taupe', ['teal', 'maroon']]"
      ]
     },
     "execution_count": 39,
     "metadata": {},
     "output_type": "execute_result"
    }
   ],
   "source": [
    "#what about appending a list\n",
    "colours_1.append(colours_2)\n",
    "\n",
    "colours_1 # it has just appended the list variable to  a single list value"
   ]
  },
  {
   "cell_type": "code",
   "execution_count": 40,
   "id": "95ace79b",
   "metadata": {},
   "outputs": [
    {
     "data": {
      "text/plain": [
       "['red',\n",
       " 'blue',\n",
       " 'green',\n",
       " 'turqoise',\n",
       " 'beige',\n",
       " 'taupe',\n",
       " ['teal', 'maroon'],\n",
       " 'teal',\n",
       " 'maroon']"
      ]
     },
     "execution_count": 40,
     "metadata": {},
     "output_type": "execute_result"
    }
   ],
   "source": [
    "#Extend \n",
    "\n",
    "colours_1.extend(colours_2)\n",
    "\n",
    "colours_1  # This adds the second list as seperate elements "
   ]
  },
  {
   "cell_type": "code",
   "execution_count": 41,
   "id": "12dceecd",
   "metadata": {},
   "outputs": [
    {
     "data": {
      "text/plain": [
       "['red',\n",
       " 'blue',\n",
       " 'green',\n",
       " 'turqoise',\n",
       " 'beige',\n",
       " 'taupe',\n",
       " ['teal', 'maroon'],\n",
       " 'teal',\n",
       " 'maroon',\n",
       " 't',\n",
       " 'a',\n",
       " 'u',\n",
       " 'p',\n",
       " 'e']"
      ]
     },
     "execution_count": 41,
     "metadata": {},
     "output_type": "execute_result"
    }
   ],
   "source": [
    "colours_1.extend(colour_1)\n",
    "colours_1 # This does something different it adds every 'indexable part of the variable to the list"
   ]
  },
  {
   "cell_type": "code",
   "execution_count": null,
   "id": "150e72bc",
   "metadata": {},
   "outputs": [
    {
     "data": {
      "text/plain": [
       "['red', 'green', 'turqoise', 'beige', 'taupe', 'blue']"
      ]
     },
     "execution_count": 46,
     "metadata": {},
     "output_type": "execute_result"
    }
   ],
   "source": [
    "# Remove method\n",
    "\n",
    "#colours_1.remove(\"blue\")\n",
    "#colours_1\n",
    "\n",
    "#what if it had two blues on the list\n",
    "colours_1.append(\"blue\")\n",
    "colours_1.remove(\"blue\")\n",
    "colours_1 # it only removed the first one "
   ]
  },
  {
   "cell_type": "markdown",
   "id": "bfff3e59",
   "metadata": {},
   "source": [
    "Excercise 2 \n",
    "\n",
    "In this cell, make a list of a few foods and print it.\n",
    "Then append the list with another food and print it.\n",
    "Next, make another list of foods, and use the extend method to \n",
    "add those extra foods as individual elements of the list, and print it.\n",
    "Finally, remove and element from the list and print the final list.\n",
    "Remember to always use a suitable name for your lists!"
   ]
  },
  {
   "cell_type": "code",
   "execution_count": 54,
   "id": "807ed366",
   "metadata": {},
   "outputs": [
    {
     "name": "stdout",
     "output_type": "stream",
     "text": [
      "['flour', 'eggs', 'sugar', 'milk']\n",
      "['flour', 'eggs', 'sugar', 'milk', 'tea', 'coffee', 'water', 'squash']\n"
     ]
    },
    {
     "data": {
      "text/plain": [
       "['flour', 'eggs', 'sugar', 'milk', 'tea', 'water', 'squash']"
      ]
     },
     "execution_count": 54,
     "metadata": {},
     "output_type": "execute_result"
    }
   ],
   "source": [
    "cake_ingredients = [\"flour\", \"eggs\", \"sugar\"]\n",
    "forgotten_ingr = \"milk\"\n",
    "\n",
    "cake_ingredients.append(forgotten_ingr)\n",
    "print(cake_ingredients)\n",
    "\n",
    "drinks = [\"tea\", \"coffee\", \"water\", \"squash\"]\n",
    "\n",
    "foods = cake_ingredients\n",
    "foods.extend(drinks)\n",
    "print(foods)\n",
    "\n",
    "foods.remove(\"coffee\")\n",
    "\n",
    "foods\n"
   ]
  },
  {
   "cell_type": "code",
   "execution_count": 60,
   "id": "b519ffc8",
   "metadata": {},
   "outputs": [
    {
     "name": "stdout",
     "output_type": "stream",
     "text": [
      "[1, 2.2, 3, 6, 6, 9, 9, 18, 32, 55]\n"
     ]
    },
    {
     "data": {
      "text/plain": [
       "[55, 32, 18, 9, 9, 6, 6, 3, 2.2, 1]"
      ]
     },
     "execution_count": 60,
     "metadata": {},
     "output_type": "execute_result"
    }
   ],
   "source": [
    "numbs = [1, 6, 9, 3, 6, 55, 32, 18, 9, 2.2]\n",
    "#sort method \n",
    "numbs.sort() # with no arguments so it uses the default arguements \n",
    "print(numbs)\n",
    "\n",
    "numbs.sort(reverse=False) # this is the same as default\n",
    "numbs.sort(reverse=True) # this is opposite\n",
    "numbs"
   ]
  },
  {
   "cell_type": "code",
   "execution_count": null,
   "id": "c6d7c084",
   "metadata": {},
   "outputs": [
    {
     "name": "stdout",
     "output_type": "stream",
     "text": [
      "[1, 2.2, 3, 6, 6, 9, 9, 18, 32, 55]\n",
      "[1, 6, 9, 3, 6, 55, 32, 18, 9, 2.2]\n"
     ]
    }
   ],
   "source": [
    "# There is also the sorted() function()\n",
    "nums = [1, 6, 9, 3, 6, 55, 32, 18, 9, 2.2]\n",
    "\n",
    "print(sorted(nums))\n",
    "print(nums)\n",
    "\n",
    "# This sorts the values in the list without overwriting the input. so can assign the output to a new variable. \n",
    "# Functions don't overwrite input methods mostly do"
   ]
  },
  {
   "cell_type": "markdown",
   "id": "6b4899c7",
   "metadata": {},
   "source": [
    "### Dictionaries\n",
    "\n",
    "- Their notation is curley brackets with commas between\n",
    "- has keys assosiated with values. Key:Value pairs\n",
    "- 1 keyvalue pair is an item / an element\n",
    "- Keys are immuatable. so they can't be changes. so can't have the value be a varible. \n",
    "- Therefore they store numbers and strings which are immutable"
   ]
  },
  {
   "cell_type": "code",
   "execution_count": null,
   "id": "e4645c23",
   "metadata": {},
   "outputs": [
    {
     "name": "stdout",
     "output_type": "stream",
     "text": [
      "Orange\n"
     ]
    },
    {
     "data": {
      "text/plain": [
       "'pink'"
      ]
     },
     "execution_count": 66,
     "metadata": {},
     "output_type": "execute_result"
    }
   ],
   "source": [
    "fav_colours = { # Good to do it on new lines\n",
    "    \"Tom\":\"Orange\",\n",
    "    \"Richard\":\"Blue\",\n",
    "    \"Harry\": [\"Green\",\"Purple\"], # can have lists\n",
    "    \"Susan\": {\n",
    "        \"Mon\":\"Cyan\",\n",
    "        \"Tue\":\"Yellow\",\n",
    "        \"RoW\": [\"pink\",\"Black\"]\n",
    "        }\n",
    "    }\n",
    "\n",
    "\n",
    "print(fav_colours[\"Tom\"])\n",
    "\n",
    "fav_colours[\"Susan\"]['RoW'][0]"
   ]
  },
  {
   "cell_type": "code",
   "execution_count": null,
   "id": "e6247134",
   "metadata": {},
   "outputs": [
    {
     "name": "stdout",
     "output_type": "stream",
     "text": [
      "dict_keys(['Tom', 'Richard', 'Harry', 'Susan'])\n",
      "<class 'dict_keys'>\n",
      "['Orange', 'Blue', ['Green', 'Purple'], {'Mon': 'Cyan', 'Tue': 'Yellow', 'RoW': ['pink', 'Black']}]\n",
      "[('Tom', 'Orange'), ('Richard', 'Blue'), ('Harry', ['Green', 'Purple']), ('Susan', {'Mon': 'Cyan', 'Tue': 'Yellow', 'RoW': ['pink', 'Black']})]\n",
      "False\n",
      "False\n"
     ]
    }
   ],
   "source": [
    "#Methods for dictionaries incude .keys()\n",
    "\n",
    "print(fav_colours.keys())\n",
    "print(type(fav_colours.keys())) # an odd type of dict_keys\n",
    "list(fav_colours.keys()) # make the keys into a list \"CASTING\"\n",
    "\n",
    "\n",
    "### Also have .values()\n",
    "print(list(fav_colours.values()))\n",
    "\n",
    "\n",
    "## And .items() which outputs a tuple\n",
    "### tuples are useful for looping\n",
    "\n",
    "print(list(fav_colours.items()))\n",
    "type(list(fav_colours.items())[1])\n",
    "\n",
    "\n",
    "print('Mo' in fav_colours) # can check if a key is in a dict\n",
    "\n"
   ]
  },
  {
   "cell_type": "code",
   "execution_count": 86,
   "id": "c0a1e932",
   "metadata": {},
   "outputs": [
    {
     "name": "stdout",
     "output_type": "stream",
     "text": [
      "['Indian', ['Italian', 'Thai'], 'Pub']\n",
      "True\n",
      "dict_items([('North Street', 'Indian'), ('East Street', ['Italian', 'Thai']), ('South Street', 'Pub'), ('West Street', 'Chinese')])\n"
     ]
    }
   ],
   "source": [
    "# Using the key, print the values of one of the restaurants in your dicitonary.\n",
    "rest = {\n",
    "    \"North Street\": \"Indian\",\n",
    "    \"East Street\": [\"Italian\", \"Thai\"],\n",
    "    \"South Street\" : \"Pub\"\n",
    "}\n",
    "\n",
    "print(list(rest.values()))\n",
    "\n",
    "# Add a new key:value pair to your dictionary, as above.\n",
    "rest[\"West Street\"] = \"Chinese\"\n",
    "# Check whether 'mcdonalds' is a key in your dictionary, printing the answer.\n",
    "print(\"West Street\" in rest)\n",
    "print(rest.items())\n",
    "\n",
    "\n",
    "# a better way of doin this is the name of a resturant / type of resturant as the key\n",
    "#with the values as the menu"
   ]
  },
  {
   "cell_type": "code",
   "execution_count": 91,
   "metadata": {},
   "outputs": [
    {
     "name": "stdout",
     "output_type": "stream",
     "text": [
      "{'Tom': 'Orange', 'Richard': 'Blue', 'Harry': ['Green', 'Purple'], 'Susan': {'Mon': 'Cyan', 'Tue': 'Yellow', 'RoW': ['pink', 'Black']}}\n",
      "{'Tom': 'Orange', 'Richard': 'Blue', 'Harry': ['Green', 'Purple'], 'Susan': {'Mon': 'Cyan', 'Tue': 'Yellow', 'RoW': ['pink', 'Black']}}\n",
      "{'Tom': 'sunset orange', 'Richard': 'Blue', 'Harry': ['Green', 'Purple'], 'Susan': {'Mon': 'Cyan', 'Tue': 'Yellow', 'RoW': ['pink', 'Black']}, 'Anne': 'Brown'}\n",
      "True\n"
     ]
    }
   ],
   "source": [
    "print(fav_colours)\n",
    "\n",
    "fav_colours1 = {\n",
    "     'Tom': 'Orange',\n",
    "      'Richard': 'Blue', \n",
    "      'Harry': ['Green', 'Purple'], \n",
    "      'Susan': {\n",
    "          'Mon': 'Cyan', \n",
    "          'Tue': 'Yellow',\n",
    "          'RoW': ['pink', 'Black']\n",
    "          }\n",
    "    }\n",
    "print(fav_colours1)\n",
    "tom_colours = fav_colours1['Tom']\n",
    "\n",
    "fav_colours1[\"Anne\"] = \"Brown\" ## adding\n",
    "\n",
    "fav_colours1[\"Tom\"]= \"sunset orange\" #overwriting\n",
    "\n",
    "print(fav_colours1)\n",
    "\n",
    "print(\"Will\" not in fav_colours1)"
   ]
  },
  {
   "cell_type": "code",
   "execution_count": null,
   "id": "29e6e3c3",
   "metadata": {},
   "outputs": [],
   "source": [
    "# Can replace values like you'd do with an x look up\n",
    "#eg \n",
    "sex_dict = {\n",
    "    1: \"M\",\n",
    "    2: \"F\"\n",
    "}\n",
    "#then map values with it to replace old ones\n"
   ]
  },
  {
   "cell_type": "code",
   "execution_count": 100,
   "id": "88c919dc",
   "metadata": {},
   "outputs": [
    {
     "name": "stdout",
     "output_type": "stream",
     "text": [
      "{'North Street': 'Indian', 'East Street': ['Italian', 'Thai'], 'South Street': 'Pub', 'West Street': 'Chinese', 'High Street': {'Top of Hill': ['Chip Shop', 'Kebabs'], 'Bottom of Hill': 'Cafe'}}\n",
      "Indian\n",
      "High street in dictionary now:  True\n",
      "Cafe  in dictionary as a key:  False\n"
     ]
    }
   ],
   "source": [
    "# Final exercise\n",
    "print(rest)\n",
    "# Using the key, print the values of one of the restaurants in your dicitonary.\n",
    "\n",
    "print(rest[\"North Street\"])\n",
    "# Add a new key:value pair to your dictionary, as above.\n",
    "rest[\"High Street\"] = {\"Top of Hill\": [\"Chip Shop\", \"Kebabs\"],\n",
    "                       \"Bottom of Hill\": \"Cafe\"}\n",
    "\n",
    "# Check whether 'mcdonalds' is a key in your dictionary, printing the answer.\n",
    "#Ill use high street\n",
    "\n",
    "print(\"High street in dictionary now: \", \"High Street\" in rest)\n",
    "print(\"Cafe  in dictionary as a key: \", \"Cafe\" in rest)\n"
   ]
  },
  {
   "cell_type": "code",
   "execution_count": null,
   "id": "36be4617",
   "metadata": {},
   "outputs": [],
   "source": []
  },
  {
   "cell_type": "code",
   "execution_count": null,
   "id": "6b9f0371",
   "metadata": {},
   "outputs": [],
   "source": []
  },
  {
   "cell_type": "code",
   "execution_count": null,
   "id": "a2e69a8d",
   "metadata": {},
   "outputs": [],
   "source": []
  }
 ],
 "metadata": {
  "kernelspec": {
   "display_name": "Python 3",
   "language": "python",
   "name": "python3"
  },
  "language_info": {
   "codemirror_mode": {
    "name": "ipython",
    "version": 3
   },
   "file_extension": ".py",
   "mimetype": "text/x-python",
   "name": "python",
   "nbconvert_exporter": "python",
   "pygments_lexer": "ipython3",
   "version": "3.12.1"
  }
 },
 "nbformat": 4,
 "nbformat_minor": 5
}
