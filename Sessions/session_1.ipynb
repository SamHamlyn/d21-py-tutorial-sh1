{
 "cells": [
  {
   "cell_type": "markdown",
   "id": "78f5870f",
   "metadata": {},
   "source": [
    "# Session 1 \n",
    "\n",
    "Excercises and Notes are: [ERN Sessions Repo/Beginer session code](https://github.com/data-to-insight/ERN-sessions/blob/cohort3-thursday/Beginners%20session%20code/worksheet%201.ipynb)\n",
    "\n"
   ]
  },
  {
   "cell_type": "markdown",
   "id": "fabbd240",
   "metadata": {},
   "source": [
    "## Tutorial"
   ]
  },
  {
   "cell_type": "code",
   "execution_count": 1,
   "id": "6cde1ab4",
   "metadata": {},
   "outputs": [
    {
     "name": "stdout",
     "output_type": "stream",
     "text": [
      "5\n"
     ]
    }
   ],
   "source": [
    "x=5\n",
    "\n",
    "print(x)"
   ]
  },
  {
   "cell_type": "markdown",
   "id": "d337fa8b",
   "metadata": {},
   "source": [
    "With Jupyter Notebooks print isn't that used because it will autoprint the last varible. In other formats you have to use print\n",
    "\n",
    "Print is useful to check the outputs but more advanced uses like data pipelines print isn't needed much"
   ]
  },
  {
   "cell_type": "code",
   "execution_count": 10,
   "id": "cb78b775",
   "metadata": {},
   "outputs": [
    {
     "name": "stdout",
     "output_type": "stream",
     "text": [
      "15\n"
     ]
    },
    {
     "data": {
      "text/plain": [
       "19"
      ]
     },
     "execution_count": 10,
     "metadata": {},
     "output_type": "execute_result"
    }
   ],
   "source": [
    "#The Simplest bit of python\n",
    "x = 5\n",
    "y = 10\n",
    "print(x + y) \n",
    "\n",
    "#Can override varibles like:\n",
    "x +=1\n",
    "y=13\n",
    "z = x + y \n",
    "#So you have to careful about what variables you are overriding eg when you have tables don't replace a table you don't want to\n",
    "z"
   ]
  },
  {
   "cell_type": "code",
   "execution_count": 14,
   "id": "e41934a5",
   "metadata": {},
   "outputs": [
    {
     "name": "stdout",
     "output_type": "stream",
     "text": [
      "Hello World\n",
      "510\n"
     ]
    }
   ],
   "source": [
    "# What if we are using strings instead of numbers\n",
    "\n",
    "a= \"Hello\"\n",
    "b='World'\n",
    "c= \"It isn't nice\" # if you have \" or ' in the string use the opposite one to wrap it as text \n",
    "print(a,b) #Can concatinate strings together so make sure that your numbers aren't stored as strings. as '5' + '10' = 510\n",
    "\n",
    "print('5' + '10') # This is not probably not the output you want"
   ]
  },
  {
   "cell_type": "code",
   "execution_count": 20,
   "id": "50e92c80",
   "metadata": {},
   "outputs": [
    {
     "name": "stdout",
     "output_type": "stream",
     "text": [
      "6.0\n",
      "<class 'float'>\n",
      "6.0\n"
     ]
    },
    {
     "data": {
      "text/plain": [
       "float"
      ]
     },
     "execution_count": 20,
     "metadata": {},
     "output_type": "execute_result"
    }
   ],
   "source": [
    "#Ints and floats can add together. it will output a float -- implict type casting\n",
    "\n",
    "x=5\n",
    "y=1.0\n",
    "z=x+y\n",
    "print(z)\n",
    "\n",
    "#we can check the type of a variable or value with type()\n",
    "print(type(z))\n",
    "\n",
    "#Can cast types with functions eg\n",
    "print(str(z))\n",
    "\n",
    "type(z)"
   ]
  },
  {
   "cell_type": "markdown",
   "id": "4dbdb19d",
   "metadata": {},
   "source": [
    "## Excercise 1 "
   ]
  },
  {
   "cell_type": "markdown",
   "id": "a5d44961",
   "metadata": {},
   "source": [
    "Initialise two numeric variables and find their product  using the * operator for multiplication and assign this to a new variable.\n",
    "Print the new variable\n",
    "\n"
   ]
  },
  {
   "cell_type": "code",
   "execution_count": null,
   "id": "417cd09e",
   "metadata": {},
   "outputs": [
    {
     "name": "stdout",
     "output_type": "stream",
     "text": [
      "Value is 30 \n",
      "the Type is <class 'int'>\n"
     ]
    }
   ],
   "source": [
    "v1 = 6\n",
    "v2 = 5\n",
    "#Product of 2 Variables \n",
    "prod = v1*v2\n",
    "\n",
    "print(\"Value is\", prod, \"\\nThe Type is\", type(prod))\n"
   ]
  },
  {
   "cell_type": "markdown",
   "id": "6e1447b4",
   "metadata": {},
   "source": [
    "The radius of a circle is 2, assume that Pi is 3.14. Assign both of these  to suitably named variables and find the area of the circle.\n",
    "We can find the area of a circle by finding the product of Pi with the radius squared.# You probably don't know how to square a number in Python yet, so use Google to work it out!"
   ]
  },
  {
   "cell_type": "code",
   "execution_count": 26,
   "id": "d35e1602",
   "metadata": {},
   "outputs": [
    {
     "data": {
      "text/plain": [
       "12.56"
      ]
     },
     "execution_count": 26,
     "metadata": {},
     "output_type": "execute_result"
    }
   ],
   "source": [
    "r = 2\n",
    "pi =3.14\n",
    "\n",
    "area = pi * (r**2)\n",
    "\n",
    "area"
   ]
  },
  {
   "cell_type": "code",
   "execution_count": 36,
   "id": "93f4bc14",
   "metadata": {},
   "outputs": [
    {
     "data": {
      "text/plain": [
       "12.56"
      ]
     },
     "execution_count": 36,
     "metadata": {},
     "output_type": "execute_result"
    }
   ],
   "source": [
    "#Could also make a function if doing it alot\n",
    "\n",
    "def circleArea (radius):\n",
    "    \"\"\"Enter the radius to find the area using pi* (r squared)\"\"\"\n",
    "    pi=3.14\n",
    "    area = pi * (radius**2)\n",
    "    return area\n",
    "\n",
    "circleArea(2)"
   ]
  },
  {
   "cell_type": "code",
   "execution_count": null,
   "id": "5933d052",
   "metadata": {},
   "outputs": [
    {
     "data": {
      "text/plain": [
       "[3.14, 12.56, 28.26, 50.24, 78.5, 113.04]"
      ]
     },
     "execution_count": 33,
     "metadata": {},
     "output_type": "execute_result"
    }
   ],
   "source": [
    "#using a list with the function\n",
    "list = [1,2,3,4,5,6]\n",
    "areaList=[]\n",
    "for i in list:\n",
    "     areaList.append(circleArea(i)) \n",
    "areaList"
   ]
  },
  {
   "cell_type": "markdown",
   "id": "5d8b1456",
   "metadata": {},
   "source": [
    "Iterables are something that can be iterated over. \n",
    "Starts counting from 0. the word for position is index. \n",
    "start is inclusive stop is inclusive "
   ]
  },
  {
   "cell_type": "markdown",
   "id": "348e6ba7",
   "metadata": {},
   "source": [
    "## Tutorial 2: Working with strings by slicing"
   ]
  },
  {
   "cell_type": "code",
   "execution_count": 48,
   "id": "5ec0c41e",
   "metadata": {},
   "outputs": [],
   "source": [
    "words = \"This is a bunch of words\""
   ]
  },
  {
   "cell_type": "code",
   "execution_count": 49,
   "id": "c93d0f44",
   "metadata": {},
   "outputs": [
    {
     "data": {
      "text/plain": [
       "'his is a bunch of words'"
      ]
     },
     "execution_count": 49,
     "metadata": {},
     "output_type": "execute_result"
    }
   ],
   "source": [
    "words[1:] # All letters except first character"
   ]
  },
  {
   "cell_type": "code",
   "execution_count": 50,
   "id": "32df66a9",
   "metadata": {},
   "outputs": [
    {
     "data": {
      "text/plain": [
       "'or'"
      ]
     },
     "execution_count": 50,
     "metadata": {},
     "output_type": "execute_result"
    }
   ],
   "source": [
    "words[-4:-2]"
   ]
  },
  {
   "cell_type": "code",
   "execution_count": 51,
   "id": "865fa73c",
   "metadata": {},
   "outputs": [
    {
     "data": {
      "text/plain": [
       "'sdrow fo hcnub a si sihT'"
      ]
     },
     "execution_count": 51,
     "metadata": {},
     "output_type": "execute_result"
    }
   ],
   "source": [
    "#Can reverse a string with this like\n",
    "words[::-1]"
   ]
  },
  {
   "cell_type": "markdown",
   "id": "75a7ef5e",
   "metadata": {},
   "source": [
    "## Excercise 2 Slicing"
   ]
  },
  {
   "cell_type": "code",
   "execution_count": 59,
   "id": "5f109a1b",
   "metadata": {},
   "outputs": [
    {
     "data": {
      "text/plain": [
       "['dog', 'cat', 'racoon']"
      ]
     },
     "execution_count": 59,
     "metadata": {},
     "output_type": "execute_result"
    }
   ],
   "source": [
    "# In this cell I've initialised a variable 'slice_this_phrase'. \n",
    "# On the next three lines, print the words dog, cat, and racoon seprately \n",
    "#using a slice from the beginning, a slice giving a range in the middle, and a slice from the end.\n",
    "# This means one slice will involve [:n], one will involve [n1:n2], and one will involve [-n:].\n",
    "\n",
    "slice_this_phrase = 'dog cat racoon'\n",
    "\n",
    "dog = slice_this_phrase[:3] #first 3 characters\n",
    "cat = slice_this_phrase[4:4+3] # 4th to 7th character\n",
    "rac = slice_this_phrase[-6:] #last 6 characters to the end\n",
    "\n",
    "animals = [dog, cat, rac]\n",
    "\n",
    "animals"
   ]
  },
  {
   "cell_type": "code",
   "execution_count": null,
   "id": "2e2dbdf0",
   "metadata": {},
   "outputs": [
    {
     "data": {
      "text/plain": [
       "'dgctrco'"
      ]
     },
     "execution_count": 66,
     "metadata": {},
     "output_type": "execute_result"
    }
   ],
   "source": [
    "slice_this_phrase[::2] # Third 1 is step. so this ignores every other character"
   ]
  },
  {
   "cell_type": "markdown",
   "id": "8ffdd632",
   "metadata": {},
   "source": [
    "Saving Back to Git hub. \n",
    "\n",
    "Can do it with GUI but also can do it with terminal (you should use this most of the time as most times you won't have source control like vs code)"
   ]
  },
  {
   "cell_type": "markdown",
   "id": "3ad5e974",
   "metadata": {},
   "source": []
  }
 ],
 "metadata": {
  "kernelspec": {
   "display_name": "Python 3",
   "language": "python",
   "name": "python3"
  },
  "language_info": {
   "codemirror_mode": {
    "name": "ipython",
    "version": 3
   },
   "file_extension": ".py",
   "mimetype": "text/x-python",
   "name": "python",
   "nbconvert_exporter": "python",
   "pygments_lexer": "ipython3",
   "version": "3.12.1"
  }
 },
 "nbformat": 4,
 "nbformat_minor": 5
}
